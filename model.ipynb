{
 "cells": [
  {
   "cell_type": "code",
   "id": "initial_id",
   "metadata": {
    "collapsed": true,
    "ExecuteTime": {
     "end_time": "2025-08-14T11:28:16.784316Z",
     "start_time": "2025-08-14T11:28:10.035550Z"
    }
   },
   "source": [
    "from pathlib import Path\n",
    "\n",
    "import torch\n",
    "from torch import nn, optim\n",
    "from torch.utils.data import DataLoader\n",
    "\n",
    "import torchvision\n",
    "from torchvision import transforms\n",
    "\n",
    "import numpy as np\n",
    "import pandas as pd\n",
    "from tqdm.auto import tqdm\n",
    "import matplotlib.pyplot as plt"
   ],
   "outputs": [],
   "execution_count": 1
  },
  {
   "metadata": {
    "ExecuteTime": {
     "end_time": "2025-08-14T11:05:19.834312Z",
     "start_time": "2025-08-14T11:05:19.690292Z"
    }
   },
   "cell_type": "code",
   "source": "!nvidia-smi",
   "id": "93c3268ef964cb61",
   "outputs": [
    {
     "name": "stdout",
     "output_type": "stream",
     "text": [
      "Thu Aug 14 20:05:19 2025       \n",
      "+-----------------------------------------------------------------------------------------+\n",
      "| NVIDIA-SMI 566.36                 Driver Version: 566.36         CUDA Version: 12.7     |\n",
      "|-----------------------------------------+------------------------+----------------------+\n",
      "| GPU  Name                  Driver-Model | Bus-Id          Disp.A | Volatile Uncorr. ECC |\n",
      "| Fan  Temp   Perf          Pwr:Usage/Cap |           Memory-Usage | GPU-Util  Compute M. |\n",
      "|                                         |                        |               MIG M. |\n",
      "|=========================================+========================+======================|\n",
      "|   0  NVIDIA GeForce RTX 4070 ...  WDDM  |   00000000:01:00.0  On |                  N/A |\n",
      "|  0%   43C    P8             10W /  220W |     954MiB /  12282MiB |     16%      Default |\n",
      "|                                         |                        |                  N/A |\n",
      "+-----------------------------------------+------------------------+----------------------+\n",
      "                                                                                         \n",
      "+-----------------------------------------------------------------------------------------+\n",
      "| Processes:                                                                              |\n",
      "|  GPU   GI   CI        PID   Type   Process name                              GPU Memory |\n",
      "|        ID   ID                                                               Usage      |\n",
      "|=========================================================================================|\n",
      "|    0   N/A  N/A      3776    C+G   ...ekyb3d8bbwe\\PhoneExperienceHost.exe      N/A      |\n",
      "|    0   N/A  N/A      5928    C+G   ...les\\Microsoft OneDrive\\OneDrive.exe      N/A      |\n",
      "|    0   N/A  N/A      7368    C+G   ...on\\wallpaper_engine\\wallpaper32.exe      N/A      |\n",
      "|    0   N/A  N/A      7548    C+G   ...tionsPlus\\logioptionsplus_agent.exe      N/A      |\n",
      "|    0   N/A  N/A      8168    C+G   ...siveControlPanel\\SystemSettings.exe      N/A      |\n",
      "|    0   N/A  N/A      8536    C+G   ...s\\System32\\ApplicationFrameHost.exe      N/A      |\n",
      "|    0   N/A  N/A      9448    C+G   C:\\Windows\\explorer.exe                     N/A      |\n",
      "|    0   N/A  N/A      9812    C+G   C:\\Windows\\System32\\ShellHost.exe           N/A      |\n",
      "|    0   N/A  N/A      9960    C+G   ...cw5n1h2txyewy\\CrossDeviceResume.exe      N/A      |\n",
      "|    0   N/A  N/A     11104    C+G   ...oogle\\Chrome\\Application\\chrome.exe      N/A      |\n",
      "|    0   N/A  N/A     11280    C+G   ...n\\138.0.3351.121\\msedgewebview2.exe      N/A      |\n",
      "|    0   N/A  N/A     12176    C+G   ...nt.CBS_cw5n1h2txyewy\\SearchHost.exe      N/A      |\n",
      "|    0   N/A  N/A     12184    C+G   ...2txyewy\\StartMenuExperienceHost.exe      N/A      |\n",
      "|    0   N/A  N/A     14048    C+G   ...n\\138.0.3351.121\\msedgewebview2.exe      N/A      |\n",
      "|    0   N/A  N/A     14072    C+G   ...oogle\\Chrome\\Application\\chrome.exe      N/A      |\n",
      "|    0   N/A  N/A     15128    C+G   ...CBS_cw5n1h2txyewy\\TextInputHost.exe      N/A      |\n",
      "|    0   N/A  N/A     16056    C+G   ...crosoft\\Edge\\Application\\msedge.exe      N/A      |\n",
      "|    0   N/A  N/A     17348    C+G   ...n\\138.0.3351.121\\msedgewebview2.exe      N/A      |\n",
      "|    0   N/A  N/A     17968    C+G   ..._x64__8wekyb3d8bbwe\\WebViewHost.exe      N/A      |\n",
      "+-----------------------------------------------------------------------------------------+\n"
     ]
    }
   ],
   "execution_count": 3
  },
  {
   "metadata": {
    "ExecuteTime": {
     "end_time": "2025-08-14T11:05:56.377196Z",
     "start_time": "2025-08-14T11:05:56.355967Z"
    }
   },
   "cell_type": "code",
   "source": [
    "# Set CUDA Device Number 0~7\n",
    "DEVICE_NUM = 0\n",
    "\n",
    "device = torch.device(f\"cuda:{DEVICE_NUM}\" if torch.cuda.is_available() else \"cpu\")\n",
    "print(\"INFO: Using device -\", device)"
   ],
   "id": "d06d31522fb4800f",
   "outputs": [
    {
     "name": "stdout",
     "output_type": "stream",
     "text": [
      "INFO: Using device - cuda:0\n"
     ]
    }
   ],
   "execution_count": 4
  },
  {
   "metadata": {
    "ExecuteTime": {
     "end_time": "2025-08-14T11:30:17.831748Z",
     "start_time": "2025-08-14T11:30:17.826283Z"
    }
   },
   "cell_type": "code",
   "source": [
    "from typing import Callable, Optional\n",
    "from torchvision.datasets.utils import download_and_extract_archive\n",
    "\n",
    "torchvision.datasets.utils.tqdm = tqdm\n",
    "\n",
    "\n",
    "class ImageDataset(torchvision.datasets.ImageFolder):\n",
    "    DOWNLOAD_URL = \"https://daiv-cnu.duckdns.org/contest/ai_competition[2025]/dataset/datasets.zip\"\n",
    "    ARCHIVE_FILENAME = \"datasets.zip\"\n",
    "\n",
    "    def __init__(\n",
    "        self,\n",
    "        root: Path,\n",
    "        force_download: bool = True,\n",
    "        train: bool = True,\n",
    "        valid: bool = False,\n",
    "        unlabeled: bool = False,\n",
    "        transform: Optional[Callable] = None,\n",
    "        target_transform: Optional[Callable] = None\n",
    "    ):\n",
    "        self.download(root, force=force_download)\n",
    "\n",
    "        if not train:\n",
    "            root = root / \"test\"\n",
    "        elif valid:\n",
    "            root = root / \"val\"\n",
    "        elif unlabeled:\n",
    "            root = root / \"unlabeled\"\n",
    "        else:\n",
    "            root = root / \"train\"\n",
    "\n",
    "        super().__init__(root=root, transform=transform, target_transform=target_transform)\n",
    "\n",
    "    @classmethod\n",
    "    def download(cls, root: Path, force: bool = False):\n",
    "        zip_path = root / cls.ARCHIVE_FILENAME\n",
    "\n",
    "        if force or not zip_path.exists():\n",
    "            download_and_extract_archive(\n",
    "                cls.DOWNLOAD_URL,\n",
    "                download_root=root,\n",
    "                extract_root=root,\n",
    "                filename=cls.ARCHIVE_FILENAME\n",
    "            )\n",
    "\n",
    "            # Arrange Dataset Directory\n",
    "            for target_dir in [root / \"test\", root / \"unlabeled\"]:\n",
    "                for file_path in target_dir.iterdir():\n",
    "                    if file_path.is_file() and file_path.suffix == \".JPEG\":\n",
    "                        new_dir = target_dir / file_path.stem\n",
    "                        new_dir.mkdir(exist_ok=True)\n",
    "                        file_path.rename(new_dir / file_path.name)\n",
    "\n",
    "            print(\"INFO: Dataset archive downloaded and extracted.\")\n",
    "        else:\n",
    "            print(\"INFO: Dataset archive found in the root directory. Skipping download.\")"
   ],
   "id": "d1ebc53e055944d5",
   "outputs": [],
   "execution_count": 2
  },
  {
   "metadata": {
    "ExecuteTime": {
     "end_time": "2025-08-14T11:30:21.835785Z",
     "start_time": "2025-08-14T11:30:21.831607Z"
    }
   },
   "cell_type": "code",
   "source": [
    "# Image Resizing and Tensor Conversion\n",
    "IMG_SIZE = (64, 64)\n",
    "\n",
    "# ImageNet Normalization\n",
    "IMG_NORM = dict(\n",
    "    mean=[0.485, 0.456, 0.406],\n",
    "    std=[0.229, 0.224, 0.225]\n",
    ")\n",
    "\n",
    "resizer = transforms.Compose([\n",
    "    transforms.Resize(IMG_SIZE), # Resize Image\n",
    "    transforms.ToTensor(), # Convert Image to Tensor\n",
    "    transforms.Normalize(**IMG_NORM) # Normalization\n",
    "])\n",
    "\n",
    "train_resizer = transforms.Compose([\n",
    "    transforms.RandomHorizontalFlip(), # Random Horizontal Flip\n",
    "    transforms.RandomVerticalFlip(), # Random Vertical Flip\n",
    "    transforms.RandomRotation(10), # Random Rotation\n",
    "    transforms.RandomErasing(p=0.5, scale=(0.02, 0.33), ratio=(0.3, 3.3)),\n",
    "    transforms.RandomApply([\n",
    "        transforms.GaussianBlur(kernel_size=(5, 9), sigma=(0.1, 5))\n",
    "    ], p=0.5),\n",
    "    resizer # Resize and Normalize\n",
    "])\n",
    "\n",
    "valid_transform = transforms.Compose([\n",
    "    transforms.Resize(IMG_SIZE),\n",
    "    transforms.ToTensor(),\n",
    "    transforms.Normalize(**IMG_NORM)\n",
    "])"
   ],
   "id": "f896a28c5881a394",
   "outputs": [],
   "execution_count": 3
  },
  {
   "metadata": {
    "ExecuteTime": {
     "end_time": "2025-08-14T11:30:33.295303Z",
     "start_time": "2025-08-14T11:30:25.442680Z"
    }
   },
   "cell_type": "code",
   "source": [
    "DATA_ROOT = Path(\"data\")\n",
    "\n",
    "train_dataset = ImageDataset(root=DATA_ROOT, force_download=False, train=True, transform=train_resizer)\n",
    "valid_dataset = ImageDataset(root=DATA_ROOT, force_download=False, valid=True, transform=valid_transform)\n",
    "test_dataset = ImageDataset(root=DATA_ROOT, force_download=False, train=False, transform=resizer)\n",
    "unlabeled_dataset = ImageDataset(root=DATA_ROOT, force_download=False, unlabeled=True, transform=resizer)\n",
    "\n",
    "print(f\"INFO: Dataset loaded successfully. Number of samples - Train({len(train_dataset)}), Valid({len(valid_dataset)}), Test({len(test_dataset)}), Unlabeled({len(unlabeled_dataset)})\")"
   ],
   "id": "80930f9e6359cc25",
   "outputs": [
    {
     "name": "stdout",
     "output_type": "stream",
     "text": [
      "INFO: Dataset archive found in the root directory. Skipping download.\n",
      "INFO: Dataset archive found in the root directory. Skipping download.\n",
      "INFO: Dataset archive found in the root directory. Skipping download.\n",
      "INFO: Dataset archive found in the root directory. Skipping download.\n",
      "INFO: Dataset loaded successfully. Number of samples - Train(8000), Valid(10000), Test(19996), Unlabeled(72004)\n"
     ]
    }
   ],
   "execution_count": 4
  },
  {
   "metadata": {
    "ExecuteTime": {
     "end_time": "2025-08-14T11:30:33.302116Z",
     "start_time": "2025-08-14T11:30:33.299316Z"
    }
   },
   "cell_type": "code",
   "source": "print(f\"INFO: Train dataset has been overridden with augmented state. Number of samples - Train({len(train_dataset)})\")",
   "id": "6d91850db79d90bb",
   "outputs": [
    {
     "name": "stdout",
     "output_type": "stream",
     "text": [
      "INFO: Train dataset has been overridden with augmented state. Number of samples - Train(8000)\n"
     ]
    }
   ],
   "execution_count": 5
  }
 ],
 "metadata": {
  "kernelspec": {
   "display_name": "Python 3",
   "language": "python",
   "name": "python3"
  },
  "language_info": {
   "codemirror_mode": {
    "name": "ipython",
    "version": 2
   },
   "file_extension": ".py",
   "mimetype": "text/x-python",
   "name": "python",
   "nbconvert_exporter": "python",
   "pygments_lexer": "ipython2",
   "version": "2.7.6"
  }
 },
 "nbformat": 4,
 "nbformat_minor": 5
}
